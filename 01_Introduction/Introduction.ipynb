{
 "cells": [
  {
   "cell_type": "markdown",
   "metadata": {
    "slideshow": {
     "slide_type": "slide"
    }
   },
   "source": [
    "# Introduction Notebook\n",
    "\n",
    "Here we will cover common python libraries.\n",
    "\n",
    "1. [Numpy](#numpy) \n",
    "\n",
    "2. [Scipy](#scipy) \n",
    "\n",
    "3. [Matplotlib](#matplotlib) \n",
    "\n",
    "4. [PySCF](#pyscf)\n",
    "\n",
    "5. [Psi4](#psi4)"
   ]
  },
  {
   "cell_type": "markdown",
   "metadata": {
    "slideshow": {
     "slide_type": "slide"
    }
   },
   "source": [
    "<a id='numpy'></a>\n",
    "## Numpy\n",
    "Fundamental package for scientific computing with Python"
   ]
  },
  {
   "cell_type": "code",
   "execution_count": null,
   "metadata": {
    "slideshow": {
     "slide_type": "subslide"
    }
   },
   "outputs": [],
   "source": [
    "import numpy as np\n",
    "\n",
    "a = np.array((4, 5, 6, 6, 7, 8))\n",
    "b = np.array((8, 9, 2, 4, 6, 7))\n",
    "\n",
    "c = np.dot(a, b)\n",
    "print(c)"
   ]
  },
  {
   "cell_type": "markdown",
   "metadata": {
    "slideshow": {
     "slide_type": "slide"
    }
   },
   "source": [
    "<a id='scipy'></a>\n",
    "## Scipy\n",
    "\n",
    "provides many user-friendly and efficient numerical routines such as routines for numerical integration and optimization"
   ]
  },
  {
   "cell_type": "code",
   "execution_count": null,
   "metadata": {
    "scrolled": true,
    "slideshow": {
     "slide_type": "subslide"
    }
   },
   "outputs": [],
   "source": [
    "import scipy as sp\n",
    "import scipy.linalg as la\n",
    "\n",
    "mat = np.random.rand(5, 5)\n",
    "eig_val, eig_vec = la.eig(mat)\n",
    "\n",
    "print('eigenvalues:\\n {}\\n'.format(eig_val))\n",
    "print('eigenvectors:\\n {}'.format(eig_vec))"
   ]
  },
  {
   "cell_type": "markdown",
   "metadata": {
    "collapsed": true,
    "slideshow": {
     "slide_type": "slide"
    }
   },
   "source": [
    "## Matplotlib\n",
    "\n",
    "Python library for 2- and 3-D visualization.\n",
    "Pyplot provides convenient functions to generate plots."
   ]
  },
  {
   "cell_type": "code",
   "execution_count": null,
   "metadata": {},
   "outputs": [],
   "source": [
    "import matplotlib.pyplot as plt\n",
    "\n",
    "x = np.linspace(0,5,100)\n",
    "y = np.sin(x)\n",
    "plt.plot(x,y)\n",
    "plt.show()"
   ]
  },
  {
   "cell_type": "markdown",
   "metadata": {},
   "source": [
    "## Psi4Numpy\n",
    "\n",
    "An open source quantum chemistry.\n",
    "\n",
    "Recently introduced [Psi4Numpy](https://github.com/psi4/psi4numpy), a collections of notebooks for education. \n",
    "\n"
   ]
  },
  {
   "cell_type": "code",
   "execution_count": null,
   "metadata": {},
   "outputs": [],
   "source": [
    "import psi4\n",
    "\n",
    "# read in molecule\n",
    "h2o = psi4.geometry(\"\"\"\n",
    "O\n",
    "H 1 0.96\n",
    "H 1 0.96 2 104.5\n",
    "\"\"\")\n",
    "\n",
    "# set basis set\n",
    "psi4.set_options({'basis': 'cc-pvdz'})\n",
    "\n",
    "#run an scf calculation\n",
    "scf_e, scf_wfn = psi4.energy('scf', return_wfn=True)"
   ]
  },
  {
   "cell_type": "markdown",
   "metadata": {},
   "source": [
    "## Pyscf\n",
    "\n",
    "Python-based quantum simulations"
   ]
  },
  {
   "cell_type": "code",
   "execution_count": null,
   "metadata": {},
   "outputs": [],
   "source": [
    "from pyscf import gto, scf\n",
    "\n",
    "# read in geometry and set basis\n",
    "mol = gto.M(atom='H 0 0 0; H 0 0 1.2', basis='ccpvdz')\n",
    "\n",
    "# run  an scf calculation\n",
    "mf = scf.RHF(mol)\n",
    "mf.kernel()"
   ]
  },
  {
   "cell_type": "markdown",
   "metadata": {},
   "source": []
  }
 ],
 "metadata": {
  "celltoolbar": "Slideshow",
  "kernelspec": {
   "display_name": "Python 3",
   "language": "python",
   "name": "python3"
  },
  "language_info": {
   "codemirror_mode": {
    "name": "ipython",
    "version": 3
   },
   "file_extension": ".py",
   "mimetype": "text/x-python",
   "name": "python",
   "nbconvert_exporter": "python",
   "pygments_lexer": "ipython3",
   "version": "3.6.5"
  }
 },
 "nbformat": 4,
 "nbformat_minor": 2
}
