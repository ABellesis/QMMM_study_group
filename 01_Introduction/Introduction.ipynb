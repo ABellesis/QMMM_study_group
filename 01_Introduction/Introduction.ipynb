{
 "cells": [
  {
   "cell_type": "markdown",
   "metadata": {
    "slideshow": {
     "slide_type": "slide"
    }
   },
   "source": [
    "# Introduction Notebook\n",
    "\n",
    "Here we will cover common python libraries.\n",
    "\n",
    "1.[Numpy](#numpy) \n",
    "\n",
    "2.[Scipy](#scipy) \n",
    "\n",
    "3.[Matplotlib](#matplotlib) "
   ]
  },
  {
   "cell_type": "markdown",
   "metadata": {
    "slideshow": {
     "slide_type": "slide"
    }
   },
   "source": [
    "<a id='numpy'></a>\n",
    "## Numpy\n",
    "Fundamental package for scientific computing with Python"
   ]
  },
  {
   "cell_type": "code",
   "execution_count": 1,
   "metadata": {
    "slideshow": {
     "slide_type": "subslide"
    }
   },
   "outputs": [
    {
     "name": "stdout",
     "output_type": "stream",
     "text": [
      "211\n"
     ]
    }
   ],
   "source": [
    "import numpy as np\n",
    "\n",
    "a = np.array((4, 5, 6, 6, 7, 8))\n",
    "b = np.array((8, 9, 2, 4, 6, 7))\n",
    "\n",
    "c = np.dot(a, b)\n",
    "print(c)"
   ]
  },
  {
   "cell_type": "markdown",
   "metadata": {
    "slideshow": {
     "slide_type": "slide"
    }
   },
   "source": [
    "<a id='scipy'></a>\n",
    "## Scipy"
   ]
  },
  {
   "cell_type": "code",
   "execution_count": 12,
   "metadata": {
    "scrolled": true,
    "slideshow": {
     "slide_type": "subslide"
    }
   },
   "outputs": [
    {
     "name": "stdout",
     "output_type": "stream",
     "text": [
      "eigenvalues:\n",
      " [ 3.00863597+0.j         -0.01231061+0.j          0.46902546+0.j\n",
      "  0.23449446+0.40220175j  0.23449446-0.40220175j]\n",
      "\n",
      "eigenvectors:\n",
      " [[-0.43939580+0.j          0.19285525+0.j         -0.61179831+0.j\n",
      "  -0.36588392-0.33037424j -0.36588392+0.33037424j]\n",
      " [-0.55847810+0.j          0.72316288+0.j         -0.49530092+0.j\n",
      "  -0.29816499+0.07600058j -0.29816499-0.07600058j]\n",
      " [-0.37347910+0.j         -0.12065571+0.j          0.28291001+0.j\n",
      "  -0.10378787-0.25031756j -0.10378787+0.25031756j]\n",
      " [-0.45645712+0.j         -0.61975264+0.j          0.52279083+0.j\n",
      "   0.09678873+0.38398972j  0.09678873-0.38398972j]\n",
      " [-0.38365844+0.j         -0.20295608+0.j          0.16441259+0.j\n",
      "   0.65730997+0.j          0.65730997-0.j        ]]\n"
     ]
    }
   ],
   "source": [
    "import scipy as sp\n",
    "import scipy.linalg as la\n",
    "\n",
    "mat = np.random.rand(5, 5)\n",
    "eig_val, eig_vec = la.eig(mat)\n",
    "\n",
    "print('eigenvalues:\\n {}\\n'.format(eig_val))\n",
    "print('eigenvectors:\\n {}'.format(eig_vec))"
   ]
  },
  {
   "cell_type": "markdown",
   "metadata": {
    "collapsed": true,
    "slideshow": {
     "slide_type": "slide"
    }
   },
   "source": [
    "## Matplotlib"
   ]
  },
  {
   "cell_type": "code",
   "execution_count": null,
   "metadata": {},
   "outputs": [],
   "source": []
  },
  {
   "cell_type": "markdown",
   "metadata": {},
   "source": [
    "## Psi4Numpy"
   ]
  },
  {
   "cell_type": "code",
   "execution_count": null,
   "metadata": {},
   "outputs": [],
   "source": []
  },
  {
   "cell_type": "markdown",
   "metadata": {},
   "source": [
    "## Pyscf"
   ]
  },
  {
   "cell_type": "markdown",
   "metadata": {},
   "source": []
  }
 ],
 "metadata": {
  "celltoolbar": "Slideshow",
  "kernelspec": {
   "display_name": "Python 3",
   "language": "python",
   "name": "python3"
  },
  "language_info": {
   "codemirror_mode": {
    "name": "ipython",
    "version": 3
   },
   "file_extension": ".py",
   "mimetype": "text/x-python",
   "name": "python",
   "nbconvert_exporter": "python",
   "pygments_lexer": "ipython3",
   "version": "3.6.5"
  }
 },
 "nbformat": 4,
 "nbformat_minor": 2
}
